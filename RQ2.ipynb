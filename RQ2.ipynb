{
 "cells": [
  {
   "cell_type": "markdown",
   "metadata": {},
   "source": [
    "# SINVAD Experiments - Research Question 2 (Boundary Testing)\n",
    "\n",
    "This notebook provides outlines on experiments performed for RQ2 (Section 5.3 of paper). It contains code that generates results for Figure 6 from our preliminary studies, and Table 3 in the paper. Here we only present the code for MNIST; the principle is similar for FashionMNIST."
   ]
  },
  {
   "cell_type": "markdown",
   "metadata": {},
   "source": [
    "## Step 0. Preparation"
   ]
  },
  {
   "cell_type": "code",
   "execution_count": 1,
   "metadata": {},
   "outputs": [],
   "source": [
    "%matplotlib inline\n",
    "import torch\n",
    "import torch.nn as nn\n",
    "import torchvision\n",
    "from torchvision import transforms\n",
    "\n",
    "import numpy as np\n",
    "from scipy.stats import ttest_ind\n",
    "import matplotlib.pyplot as plt\n",
    "from tqdm import tqdm_notebook as tqdm_n\n",
    "plt.style.use('seaborn')\n",
    "\n",
    "from sa.model import MnistClassifier\n",
    "from vae.model import VAE"
   ]
  },
  {
   "cell_type": "code",
   "execution_count": 2,
   "metadata": {},
   "outputs": [
    {
     "data": {
      "text/plain": [
       "<torch.autograd.grad_mode.no_grad at 0x7fd402747f28>"
      ]
     },
     "execution_count": 2,
     "metadata": {},
     "output_type": "execute_result"
    }
   ],
   "source": [
    "img_size = 28*28*1\n",
    "torch.no_grad() # since nothing is trained here"
   ]
  },
  {
   "cell_type": "code",
   "execution_count": 3,
   "metadata": {},
   "outputs": [
    {
     "name": "stdout",
     "output_type": "stream",
     "text": [
      "models loaded\n"
     ]
    }
   ],
   "source": [
    "vae = VAE(img_size = 28*28, h_dim = 1600, z_dim = 400)\n",
    "vae.load_state_dict(torch.load('./vae/models/MNIST_EnD.pth'))\n",
    "vae.cuda()\n",
    "\n",
    "classifier = MnistClassifier(img_size = img_size)\n",
    "classifier.load_state_dict(torch.load('./sa/models/MNIST_conv_classifier.pth'))\n",
    "classifier.cuda()\n",
    "print(\"models loaded\")"
   ]
  },
  {
   "cell_type": "code",
   "execution_count": 4,
   "metadata": {},
   "outputs": [
    {
     "name": "stdout",
     "output_type": "stream",
     "text": [
      "Data loader ready\n"
     ]
    }
   ],
   "source": [
    "test_dataset = torchvision.datasets.MNIST(root='./data', train=False, transform=transforms.ToTensor(), download=True)\n",
    "test_data_loader = torch.utils.data.DataLoader(dataset=test_dataset, batch_size=1, shuffle=True)\n",
    "print(\"Data loader ready\")"
   ]
  },
  {
   "cell_type": "markdown",
   "metadata": {},
   "source": [
    "## Step 1. Calculate prediction variance in different datasets"
   ]
  },
  {
   "cell_type": "code",
   "execution_count": 5,
   "metadata": {},
   "outputs": [],
   "source": [
    "def pred_topk_diff(img, classifier, rep_num = 10):\n",
    "    classifier.eval()\n",
    "    prob_f = nn.Softmax(dim=1)\n",
    "    pred = prob_f(classifier(img)).topk(2)[0]\n",
    "    return abs(pred[0][0]-pred[0][1])"
   ]
  },
  {
   "cell_type": "code",
   "execution_count": 6,
   "metadata": {},
   "outputs": [
    {
     "data": {
      "application/vnd.jupyter.widget-view+json": {
       "model_id": "80076d7f719f4025bd583a920b774075",
       "version_major": 2,
       "version_minor": 0
      },
      "text/plain": [
       "HBox(children=(IntProgress(value=1, bar_style='info', max=1), HTML(value='')))"
      ]
     },
     "metadata": {},
     "output_type": "display_data"
    },
    {
     "name": "stdout",
     "output_type": "stream",
     "text": [
      "\n",
      "Dataset test image variation: 0.9957110985219478\n"
     ]
    }
   ],
   "source": [
    "norm_accum = 0.\n",
    "norm_bound_values = []\n",
    "for i, (x, x_class) in tqdm_n(enumerate(test_data_loader)):\n",
    "    samp_img = x[0:1].cuda()\n",
    "    diff = pred_topk_diff(samp_img, classifier)\n",
    "    norm_accum += diff.sum().item()\n",
    "    norm_bound_values.append(diff.item())\n",
    "print('Dataset test image variation:', norm_accum/10000)"
   ]
  },
  {
   "cell_type": "code",
   "execution_count": 7,
   "metadata": {},
   "outputs": [],
   "source": [
    "bound_imgs = np.load('./data/bound_imgs_MNIST.npy')"
   ]
  },
  {
   "cell_type": "code",
   "execution_count": 8,
   "metadata": {},
   "outputs": [],
   "source": [
    "batch_imgs = bound_imgs.reshape((1, 10000, 28, 28))\n",
    "batch_imgs = batch_imgs.transpose((1, 0, 2, 3))\n",
    "tensor_imgs = torch.Tensor(batch_imgs).cuda()"
   ]
  },
  {
   "cell_type": "code",
   "execution_count": 9,
   "metadata": {},
   "outputs": [
    {
     "data": {
      "application/vnd.jupyter.widget-view+json": {
       "model_id": "84278eb499bc453d898222047531b70f",
       "version_major": 2,
       "version_minor": 0
      },
      "text/plain": [
       "HBox(children=(IntProgress(value=0, max=10000), HTML(value='')))"
      ]
     },
     "metadata": {},
     "output_type": "display_data"
    },
    {
     "name": "stdout",
     "output_type": "stream",
     "text": [
      "\n",
      "SINVAD-generated image variation: 0.06384680229574442\n"
     ]
    }
   ],
   "source": [
    "bound_accum = 0.\n",
    "sinvad_bound_values = []\n",
    "for img_idx in tqdm_n(range(10000)):\n",
    "    tensor_img = tensor_imgs[img_idx:img_idx+1]\n",
    "    diff = pred_topk_diff(tensor_img, classifier)\n",
    "    bound_accum += diff.sum().item()\n",
    "    sinvad_bound_values.append(diff.item())\n",
    "print('SINVAD-generated image variation:', bound_accum/10000)"
   ]
  },
  {
   "cell_type": "code",
   "execution_count": 10,
   "metadata": {},
   "outputs": [
    {
     "name": "stdout",
     "output_type": "stream",
     "text": [
      "0.0\n"
     ]
    }
   ],
   "source": [
    "_, p_value = ttest_ind(\n",
    "    sinvad_bound_values,\n",
    "    norm_bound_values,\n",
    "    equal_var = False\n",
    ")\n",
    "print(p_value)"
   ]
  },
  {
   "cell_type": "code",
   "execution_count": 11,
   "metadata": {},
   "outputs": [
    {
     "data": {
      "text/plain": [
       "-0.98077241"
      ]
     },
     "execution_count": 11,
     "metadata": {},
     "output_type": "execute_result"
    }
   ],
   "source": [
    "def cliff_delta(x, y):\n",
    "    x_values = np.expand_dims(np.array(x), 0)\n",
    "    y_values = np.expand_dims(np.array(y), 0).T\n",
    "    comparison_matrix = (x_values - y_values)\n",
    "    delta_matrix = np.sign(comparison_matrix)\n",
    "    cliff_delta = np.sum(delta_matrix)/np.prod(delta_matrix.shape)\n",
    "    return cliff_delta\n",
    "\n",
    "cliff_delta(sinvad_bound_values, norm_bound_values)"
   ]
  },
  {
   "cell_type": "markdown",
   "metadata": {},
   "source": [
    "## Appendix. Visualization of SINVAD-generated images (Fig. 6)"
   ]
  },
  {
   "cell_type": "code",
   "execution_count": 12,
   "metadata": {},
   "outputs": [
    {
     "data": {
      "text/plain": [
       "(-0.5, 251.5, 111.5, -0.5)"
      ]
     },
     "execution_count": 12,
     "metadata": {},
     "output_type": "execute_result"
    },
    {
     "data": {
      "image/png": "[encoded data removed]",
      "text/plain": [
       "<Figure size 432x288 with 1 Axes>"
      ]
     },
     "metadata": {
      "needs_background": "light"
     },
     "output_type": "display_data"
    }
   ],
   "source": [
    "imgs = np.load('./data/bound_imgs_MNIST.npy')\n",
    "imgs = imgs.reshape((-1, 1, 28, 28))\n",
    "\n",
    "h_size = 9\n",
    "v_size = 4\n",
    "showcase = np.zeros((28*v_size, 28*h_size))\n",
    "for i in range(v_size):\n",
    "    for j in range(h_size):\n",
    "        showcase[28*i:28*(i+1), 28*j:28*(j+1)] = imgs[h_size*i+j]\n",
    "plt.imshow(showcase)\n",
    "plt.axis('off')"
   ]
  },
  {
   "cell_type": "code",
   "execution_count": null,
   "metadata": {},
   "outputs": [],
   "source": []
  }
 ],
 "metadata": {
  "kernelspec": {
   "display_name": "dlenv",
   "language": "python",
   "name": "dlenv"
  },
  "language_info": {
   "codemirror_mode": {
    "name": "ipython",
    "version": 3
   },
   "file_extension": ".py",
   "mimetype": "text/x-python",
   "name": "python",
   "nbconvert_exporter": "python",
   "pygments_lexer": "ipython3",
   "version": "3.6.6"
  }
 },
 "nbformat": 4,
 "nbformat_minor": 2
}
