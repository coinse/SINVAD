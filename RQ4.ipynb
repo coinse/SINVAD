{
 "cells": [
  {
   "cell_type": "markdown",
   "metadata": {},
   "source": [
    "# SINVAD Experiments - Research Question 4 (Differential Testing)\n",
    "\n",
    "This notebook provides outlines on experiments performed for RQ4 (Section 5.5 of paper). It contains code that generates results similar to those presented in Figure 14 of the paper."
   ]
  },
  {
   "cell_type": "markdown",
   "metadata": {},
   "source": [
    "## Step 0. Preparation"
   ]
  },
  {
   "cell_type": "code",
   "execution_count": 1,
   "metadata": {},
   "outputs": [],
   "source": [
    "%matplotlib inline\n",
    "import torch\n",
    "import torch.nn as nn\n",
    "import torchvision\n",
    "from torchvision import transforms\n",
    "from torchvision.utils import save_image\n",
    "\n",
    "import numpy as np\n",
    "import matplotlib.pyplot as plt\n",
    "plt.style.use('seaborn')\n",
    "\n",
    "from sa.model import MobileNet, VGGNet, CifarClassifier\n",
    "from vae.model import ConvVAE"
   ]
  },
  {
   "cell_type": "code",
   "execution_count": 2,
   "metadata": {},
   "outputs": [
    {
     "data": {
      "text/plain": [
       "<torch.autograd.grad_mode.no_grad at 0x7f5b6c01b550>"
      ]
     },
     "execution_count": 2,
     "metadata": {},
     "output_type": "execute_result"
    }
   ],
   "source": [
    "# MNIST settings\n",
    "# img_size = (1, 28, 28)\n",
    "# h_size = 1600\n",
    "# z_size = 400\n",
    "# CIFAR/SVHN settings\n",
    "img_size = (3, 32, 32)\n",
    "h_size = 4000\n",
    "z_size = 800\n",
    "\n",
    "torch.no_grad() # since nothing is trained here"
   ]
  },
  {
   "cell_type": "code",
   "execution_count": 3,
   "metadata": {},
   "outputs": [
    {
     "name": "stdout",
     "output_type": "stream",
     "text": [
      "models loaded\n"
     ]
    }
   ],
   "source": [
    "vae = ConvVAE(img_size = img_size[1:], c_num=img_size[0], h_dim = h_size, z_dim = z_size)\n",
    "vae.load_state_dict(torch.load('./vae/models/SVHN_ConvEnD.pth'))\n",
    "vae.eval()\n",
    "vae.cuda()\n",
    "\n",
    "net1 = CifarClassifier()\n",
    "net1.load_state_dict(torch.load('./sa/models/SVHN_customnet.pth'))\n",
    "net1.eval()\n",
    "net1.cuda()\n",
    "\n",
    "net2 = VGGNet()\n",
    "net2.load_state_dict(torch.load('./sa/models/SVHN_vggnet.pth'))\n",
    "net2.eval()\n",
    "net2.cuda()\n",
    "\n",
    "net3 = MobileNet()\n",
    "net3.load_state_dict(torch.load('./sa/models/SVHN_mobilenet.pth'))\n",
    "net3.eval()\n",
    "net3.cuda()\n",
    "\n",
    "print(\"models loaded\")"
   ]
  },
  {
   "cell_type": "code",
   "execution_count": 4,
   "metadata": {},
   "outputs": [
    {
     "name": "stdout",
     "output_type": "stream",
     "text": [
      "Using downloaded and verified file: ./data/test_32x32.mat\n",
      "Data loader ready\n"
     ]
    }
   ],
   "source": [
    "test_dataset = torchvision.datasets.SVHN(root='./data', split='test', transform=transforms.ToTensor(), download=True)\n",
    "test_data_loader = torch.utils.data.DataLoader(dataset=test_dataset, batch_size=1, shuffle=True)\n",
    "print(\"Data loader ready\")"
   ]
  },
  {
   "cell_type": "markdown",
   "metadata": {},
   "source": [
    "## Step 1. GA of VAE latents\n",
    "Objectives:\n",
    "1. make class label not label of sampled image\n",
    "2. get as close as possible to sampled image latent"
   ]
  },
  {
   "cell_type": "code",
   "execution_count": 5,
   "metadata": {},
   "outputs": [],
   "source": [
    "def get_nl_label(img):\n",
    "    label_names = 'zero one two three four five six seven eight nine'.split()\n",
    "    if img_size[0] == 1:\n",
    "        img = img.view(1, 1, 28, 28)\n",
    "    return 'Classified as: %s' % (label_names[net1(img).argmax().item()])\n",
    "\n",
    "def print_odds(logits):\n",
    "    probs = nn.Softmax(dim=1)(logits)\n",
    "    prob_strs = ['%.3f' % p for p in probs[0]]\n",
    "    return ' '.join(prob_strs)\n",
    "\n",
    "def comp_classifiers(img, c1, c2):\n",
    "    softmax_f = nn.Softmax(dim=1)\n",
    "    org_logits = c1(img)\n",
    "    aux_logits = c2(img)\n",
    "    print('org classifier ps:', print_odds(org_logits))\n",
    "    print('aux classifier ps:', print_odds(aux_logits))\n",
    "    print('diff', torch.sum(torch.abs(softmax_f(org_logits) - softmax_f(aux_logits))).detach().item())\n",
    "\n",
    "def get_show_img(tensor_img):\n",
    "    if img_size[0] == 1:\n",
    "        return tensor_img[0][0].cpu().numpy()\n",
    "    else:\n",
    "        tensor_img = tensor_img.cpu().numpy()[0]\n",
    "        tensor_img = np.transpose(tensor_img, (1, 2, 0))\n",
    "        return tensor_img"
   ]
  },
  {
   "cell_type": "code",
   "execution_count": 6,
   "metadata": {},
   "outputs": [],
   "source": [
    "counter = 0"
   ]
  },
  {
   "cell_type": "code",
   "execution_count": 7,
   "metadata": {
    "scrolled": false
   },
   "outputs": [
    {
     "name": "stdout",
     "output_type": "stream",
     "text": [
      "Actual Label: 5\n",
      "Classified as: five\n",
      "org classifier ps: 0.000 0.000 0.000 0.000 0.000 1.000 0.000 0.000 0.000 0.000\n",
      "aux classifier ps: 0.000 0.000 0.000 0.000 0.000 1.000 0.000 0.000 0.000 0.000\n",
      "diff 7.760399967082776e-07\n"
     ]
    },
    {
     "data": {
      "text/plain": [
       "(-0.5, 31.5, 31.5, -0.5)"
      ]
     },
     "execution_count": 7,
     "metadata": {},
     "output_type": "execute_result"
    },
    {
     "data": {
      "image/png": "[encoded data removed]",
      "text/plain": [
       "<Figure size 576x396 with 1 Axes>"
      ]
     },
     "metadata": {},
     "output_type": "display_data"
    }
   ],
   "source": [
    "# Original image\n",
    "for i, (x, x_class) in enumerate(test_data_loader):\n",
    "    samp_img = x[0:1]\n",
    "    samp_class = x_class[0].item()\n",
    "    break\n",
    "print('Actual Label: %s' % samp_class) \n",
    "print(get_nl_label(samp_img.cuda()))\n",
    "\n",
    "show_img = get_show_img(samp_img)\n",
    "plt.imshow(show_img)\n",
    "\n",
    "comp_classifiers(samp_img.cuda(), net1, net2)\n",
    "plt.axis('off')"
   ]
  },
  {
   "cell_type": "code",
   "execution_count": 8,
   "metadata": {},
   "outputs": [],
   "source": [
    "if img_size[0] == 1:\n",
    "    samp_img = samp_img.view(-1, 28*28)\n",
    "img_enc, _ = vae.encode(samp_img.cuda())"
   ]
  },
  {
   "cell_type": "code",
   "execution_count": 9,
   "metadata": {
    "scrolled": false
   },
   "outputs": [
    {
     "name": "stdout",
     "output_type": "stream",
     "text": [
      "Classified as: five\n",
      "org classifier ps: 0.000 0.000 0.000 0.000 0.000 1.000 0.000 0.000 0.000 0.000\n",
      "aux classifier ps: 0.000 0.000 0.000 0.000 0.000 1.000 0.000 0.000 0.000 0.000\n",
      "diff 9.332396757599781e-07\n"
     ]
    },
    {
     "data": {
      "text/plain": [
       "(-0.5, 31.5, 31.5, -0.5)"
      ]
     },
     "execution_count": 9,
     "metadata": {},
     "output_type": "execute_result"
    },
    {
     "data": {
      "image/png": "[encoded data removed]",
      "text/plain": [
       "<Figure size 576x396 with 1 Axes>"
      ]
     },
     "metadata": {},
     "output_type": "display_data"
    }
   ],
   "source": [
    "# VAE-reconstructed image\n",
    "rec_img = vae.decode(img_enc)\n",
    "if img_size[0] == 1:\n",
    "    rec_img = rec_img.view(1, 1, 28, 28)\n",
    "    \n",
    "show_img = get_show_img(rec_img.detach())\n",
    "plt.imshow(show_img)\n",
    "\n",
    "print(get_nl_label(rec_img))\n",
    "\n",
    "comp_classifiers(rec_img, net1, net2)\n",
    "plt.axis('off')"
   ]
  },
  {
   "cell_type": "code",
   "execution_count": 10,
   "metadata": {},
   "outputs": [],
   "source": [
    "# GA parameters\n",
    "gen_num = 5000\n",
    "pop_size = 50\n",
    "init_pop = [img_enc + 1.2 * torch.randn(1, z_size).cuda() for _ in range(pop_size)]\n",
    "best_left = 20\n",
    "mut_size = 0.1\n",
    "# mutation operator adding random noise\n",
    "# crossover operator splicing"
   ]
  },
  {
   "cell_type": "code",
   "execution_count": 11,
   "metadata": {
    "scrolled": true
   },
   "outputs": [
    {
     "name": "stdout",
     "output_type": "stream",
     "text": [
      "43: 1.6 (0.001)         "
     ]
    }
   ],
   "source": [
    "# GA optimization\n",
    "now_pop = init_pop\n",
    "prev_best = 999\n",
    "binom_sampler = torch.distributions.binomial.Binomial(probs=0.2*torch.ones(img_enc.size()))\n",
    "softmax = nn.Softmax(dim=1)\n",
    "\n",
    "for g_idx in range(gen_num):\n",
    "    indv_score = [999 for _ in range(pop_size)]\n",
    "    for i_idx, indiv in enumerate(now_pop):\n",
    "        dec_img = vae.decode(indiv)\n",
    "        if img_size[0] == 1:\n",
    "            dec_img = dec_img.view(1, 1, 28, 28)\n",
    "        odds1 = softmax(net1(dec_img)) # customnet\n",
    "        odds2 = softmax(net2(dec_img)) # vgg\n",
    "        # odds3 = softmax(net3(dec_img)) # mobilenet\n",
    "        if odds1[(0, samp_class)] > 0.5:\n",
    "            continue\n",
    "        else:\n",
    "            indv_score[i_idx] = torch.sum(torch.abs(indiv - img_enc))\n",
    "            indv_score[i_idx] *= (2 + odds1[(0, samp_class)] - odds2[0, samp_class])\n",
    "    \n",
    "    best_idxs = sorted(range(len(indv_score)), key=lambda i: indv_score[i], reverse=True)[-best_left:]\n",
    "    now_best = min(indv_score)\n",
    "    if abs(now_best - prev_best) < 1e-3:\n",
    "        mut_size *= 0.5\n",
    "    else:\n",
    "        mut_size = 0.1\n",
    "    parent_pop = [now_pop[idx] for idx in best_idxs]\n",
    "    k_pop = []\n",
    "    for k_idx in range(pop_size-best_left):\n",
    "        mom_idx, pop_idx = np.random.choice(best_left, size=2, replace=False)\n",
    "        spl_idx = np.random.choice(z_size, size=1)[0]\n",
    "        k_gene = torch.cat([parent_pop[mom_idx][:, :spl_idx], parent_pop[pop_idx][:, spl_idx:]], dim=1) # crossover\n",
    "        \n",
    "        # mutation\n",
    "        diffs = (k_gene != img_enc).float()\n",
    "        k_gene += mut_size * torch.randn(k_gene.size()).cuda() * diffs # random adding noise only to diff places\n",
    "        # random matching to img_enc\n",
    "        interp_mask = binom_sampler.sample().cuda()\n",
    "        k_gene = interp_mask * img_enc + (1 - interp_mask) * k_gene\n",
    "        \n",
    "        k_pop.append(k_gene)\n",
    "    now_pop = parent_pop + k_pop\n",
    "    prev_best = now_best\n",
    "    print('\\r                        \\r', end='')\n",
    "    print('%d: %.1f (%.3f)' % (g_idx, now_best.item(), mut_size), end='')\n",
    "    if mut_size < 1e-3:\n",
    "        break"
   ]
  },
  {
   "cell_type": "code",
   "execution_count": 12,
   "metadata": {},
   "outputs": [
    {
     "name": "stdout",
     "output_type": "stream",
     "text": [
      "L1 distance from original representation: 1.0987989902496338\n"
     ]
    }
   ],
   "source": [
    "mod_best = parent_pop[-1].clone()\n",
    "prev_best = mod_best.clone() # for save\n",
    "print('L1 distance from original representation:', torch.sum(torch.abs(prev_best - img_enc)).item())"
   ]
  },
  {
   "cell_type": "code",
   "execution_count": 13,
   "metadata": {},
   "outputs": [
    {
     "name": "stdout",
     "output_type": "stream",
     "text": [
      "# of dims that differ: 1\n"
     ]
    }
   ],
   "source": [
    "print('# of dims that differ:', torch.sum((prev_best - img_enc) != 0).item())"
   ]
  },
  {
   "cell_type": "code",
   "execution_count": 14,
   "metadata": {
    "scrolled": true
   },
   "outputs": [
    {
     "name": "stdout",
     "output_type": "stream",
     "text": [
      "Classified as: six\n",
      "org classifier ps: 0.000 0.000 0.000 0.000 0.000 0.467 0.533 0.000 0.000 0.000\n",
      "aux classifier ps: 0.000 0.000 0.000 0.000 0.000 0.968 0.032 0.000 0.000 0.000\n",
      "diff 1.0008779764175415\n"
     ]
    },
    {
     "data": {
      "image/png": "[encoded data removed]",
      "text/plain": [
       "<Figure size 576x396 with 1 Axes>"
      ]
     },
     "metadata": {},
     "output_type": "display_data"
    }
   ],
   "source": [
    "# Show GA-optimized image\n",
    "vae_rand_imgs = vae.decode(parent_pop[-1])\n",
    "if img_size[0] == 1:\n",
    "    vae_rand_imgs = vae_rand_imgs.view(1, 1, 28, 28)\n",
    "    \n",
    "show_img = get_show_img(vae_rand_imgs.detach())\n",
    "plt.imshow(show_img)\n",
    "\n",
    "\n",
    "print(get_nl_label(vae_rand_imgs))\n",
    "print_odds(net1(vae_rand_imgs))\n",
    "\n",
    "plt.axis('off')\n",
    "\n",
    "comp_classifiers(vae_rand_imgs, net1, net2)"
   ]
  },
  {
   "cell_type": "code",
   "execution_count": 15,
   "metadata": {},
   "outputs": [
    {
     "name": "stdout",
     "output_type": "stream",
     "text": [
      "torch.Size([1, 3, 32, 32])\n",
      "Classified as: five\n",
      "org classifier ps: 0.000 0.000 0.000 0.000 0.000 1.000 0.000 0.000 0.000 0.000\n",
      "aux classifier ps: 0.000 0.000 0.000 0.000 0.000 1.000 0.000 0.000 0.000 0.000\n",
      "diff 2.78864517895272e-05\n"
     ]
    },
    {
     "data": {
      "image/png": "[encoded data removed]",
      "text/plain": [
       "<Figure size 576x396 with 1 Axes>"
      ]
     },
     "metadata": {},
     "output_type": "display_data"
    }
   ],
   "source": [
    "mid_img = vae.decode(0.5*img_enc + 0.5*prev_best)\n",
    "if img_size[0] == 1:\n",
    "    mid_img = mid_img.view(1, 1, 28, 28)\n",
    "print(mid_img.size())\n",
    "show_img = get_show_img(mid_img.detach())\n",
    "plt.imshow(show_img)\n",
    "print(get_nl_label(mid_img))\n",
    "\n",
    "comp_classifiers(mid_img, net1, net2)"
   ]
  },
  {
   "cell_type": "code",
   "execution_count": null,
   "metadata": {},
   "outputs": [],
   "source": []
  }
 ],
 "metadata": {
  "kernelspec": {
   "display_name": "Python 3",
   "language": "python",
   "name": "python3"
  },
  "language_info": {
   "codemirror_mode": {
    "name": "ipython",
    "version": 3
   },
   "file_extension": ".py",
   "mimetype": "text/x-python",
   "name": "python",
   "nbconvert_exporter": "python",
   "pygments_lexer": "ipython3",
   "version": "3.6.6"
  }
 },
 "nbformat": 4,
 "nbformat_minor": 2
}
