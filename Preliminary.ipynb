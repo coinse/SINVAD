{
 "cells": [
  {
   "cell_type": "markdown",
   "metadata": {},
   "source": [
    "# SINVAD Experiments - Preliminary\n",
    "\n",
    "This notebook provides outlines on experiments performed for the preliminary study (Section 3.3 of paper). It contains code that generates results similar to those presented in Figure 2-6 of the paper."
   ]
  },
  {
   "cell_type": "markdown",
   "metadata": {},
   "source": [
    "## Step 0. Preparation"
   ]
  },
  {
   "cell_type": "code",
   "execution_count": 1,
   "metadata": {},
   "outputs": [],
   "source": [
    "%matplotlib inline\n",
    "import torch\n",
    "import torch.nn as nn\n",
    "import torchvision\n",
    "from torchvision import transforms\n",
    "from torchvision.utils import save_image\n",
    "\n",
    "import numpy as np\n",
    "import scipy\n",
    "from scipy.stats import gaussian_kde\n",
    "import matplotlib.pyplot as plt\n",
    "plt.style.use('seaborn')\n",
    "\n",
    "from sa.model import MnistClassifier, EasyClassifier\n",
    "from vae.model import VAE"
   ]
  },
  {
   "cell_type": "code",
   "execution_count": 2,
   "metadata": {},
   "outputs": [],
   "source": [
    "img_size = 28*28*1\n",
    "torch.no_grad()\n",
    "vae_model_path = './vae/models/MNIST_EnD.pth'\n",
    "classifier_model_path = './sa/models/MNIST_conv_classifier.pth'"
   ]
  },
  {
   "cell_type": "code",
   "execution_count": 3,
   "metadata": {},
   "outputs": [
    {
     "name": "stdout",
     "output_type": "stream",
     "text": [
      "models loaded\n"
     ]
    }
   ],
   "source": [
    "vae = VAE(img_size = 28*28, h_dim = 1600, z_dim = 400)\n",
    "vae.load_state_dict(torch.load(vae_model_path))\n",
    "vae.eval()\n",
    "vae.cuda()\n",
    "\n",
    "classifier = MnistClassifier(img_size = img_size)\n",
    "classifier.load_state_dict(torch.load(classifier_model_path))\n",
    "classifier.eval()\n",
    "classifier.cuda()\n",
    "print(\"models loaded\")"
   ]
  },
  {
   "cell_type": "code",
   "execution_count": 4,
   "metadata": {},
   "outputs": [
    {
     "name": "stdout",
     "output_type": "stream",
     "text": [
      "Data loader ready\n"
     ]
    }
   ],
   "source": [
    "train_dataset = torchvision.datasets.MNIST(root='./data', train=True, transform=transforms.ToTensor(), download=False)\n",
    "train_data_loader = torch.utils.data.DataLoader(dataset=train_dataset, batch_size=100, shuffle=True)\n",
    "test_dataset = torchvision.datasets.MNIST(root='./data', train=False, transform=transforms.ToTensor(), download=False)\n",
    "test_data_loader = torch.utils.data.DataLoader(dataset=test_dataset, batch_size=1, shuffle=True)\n",
    "print(\"Data loader ready\")"
   ]
  },
  {
   "cell_type": "markdown",
   "metadata": {},
   "source": [
    "### Preprocessing to calculate Surprise Adequacy"
   ]
  },
  {
   "cell_type": "code",
   "execution_count": 5,
   "metadata": {},
   "outputs": [],
   "source": [
    "sa_layer = 7\n",
    "layer_dim = 512"
   ]
  },
  {
   "cell_type": "code",
   "execution_count": 6,
   "metadata": {},
   "outputs": [
    {
     "name": "stdout",
     "output_type": "stream",
     "text": [
      "(100, 60000)\n"
     ]
    }
   ],
   "source": [
    "# get KDE used for LSA calculation\n",
    "all_ats = torch.zeros(0, layer_dim)\n",
    "for i, (x, x_class) in enumerate(train_data_loader):\n",
    "    x = x.cuda()\n",
    "    ats = classifier.at_by_layer(x, sa_layer).detach()\n",
    "    all_ats = torch.cat([all_ats, ats.cpu()], dim=0)\n",
    "all_ats = all_ats.transpose(0, 1).numpy()\n",
    "rem_cols = np.std(all_ats, axis=1) < 0.6\n",
    "ref_all_ats = all_ats[~rem_cols]\n",
    "ref_all_ats = ref_all_ats[:100]\n",
    "print(ref_all_ats.shape)\n",
    "our_kde = gaussian_kde(ref_all_ats)\n",
    "\n",
    "def calc_lsa(at, kde):\n",
    "    return -kde.logpdf(at)\n",
    "\n",
    "def calc_img_lsa(img):\n",
    "    pr_at = classifier.at_by_layer(img, sa_layer).detach()\n",
    "#     pr_at = classifier.up2lyr2(img).detach()\n",
    "    pr_at = pr_at.cpu().numpy().transpose()\n",
    "    pr_at = pr_at[~rem_cols][:100]\n",
    "    return calc_lsa(pr_at, our_kde)"
   ]
  },
  {
   "cell_type": "code",
   "execution_count": 7,
   "metadata": {},
   "outputs": [
    {
     "name": "stdout",
     "output_type": "stream",
     "text": [
      "maximum lsa in test dataset: [196.30572451]\n",
      "minimum lsa in test dataset: [112.29167027]\n"
     ]
    }
   ],
   "source": [
    "lsas = []\n",
    "for i, (x, x_class) in enumerate(test_data_loader):\n",
    "    if i > 100: break\n",
    "    lsas.append(calc_img_lsa(x.cuda()))\n",
    "#     print(i)\n",
    "print(f'maximum lsa in test dataset: {max(lsas)}')\n",
    "print(f'minimum lsa in test dataset: {min(lsas)}')"
   ]
  },
  {
   "cell_type": "markdown",
   "metadata": {},
   "source": [
    "## Step 1. Optimizing Images\n",
    "\n",
    "Images are optimized to have a certain surprise adequacy value. The point of this experiment is to show that the choice of representation is influential in how coherent the final result is, motivating the use of VAEs in SINVAD. The code in this step corresponds to Figure 2 in the paper. "
   ]
  },
  {
   "cell_type": "markdown",
   "metadata": {},
   "source": [
    "### Optimizing with raw pixel representation"
   ]
  },
  {
   "cell_type": "code",
   "execution_count": 8,
   "metadata": {},
   "outputs": [
    {
     "name": "stdout",
     "output_type": "stream",
     "text": [
      "Original Random Image\n"
     ]
    },
    {
     "data": {
      "text/plain": [
       "<matplotlib.image.AxesImage at 0x7fa6c9c5b6d8>"
      ]
     },
     "execution_count": 8,
     "metadata": {},
     "output_type": "execute_result"
    },
    {
     "data": {
      "image/png": "[encoded data removed]",
      "text/plain": [
       "<Figure size 432x288 with 1 Axes>"
      ]
     },
     "metadata": {
      "needs_background": "light"
     },
     "output_type": "display_data"
    }
   ],
   "source": [
    "# generate random pixel image\n",
    "print('Original Random Image')\n",
    "pix_rand_img = np.random.randn(28, 28)\n",
    "plt.imshow(np.tanh(pix_rand_img))"
   ]
  },
  {
   "cell_type": "code",
   "execution_count": 9,
   "metadata": {},
   "outputs": [
    {
     "name": "stdout",
     "output_type": "stream",
     "text": [
      "lsa of random image: 229.9683377016408\n"
     ]
    }
   ],
   "source": [
    "pix_rand_img_tensor = torch.Tensor(pix_rand_img).cuda().view(-1, 1, 28, 28)\n",
    "pr_at = classifier.at_by_layer(pix_rand_img_tensor, sa_layer).detach()\n",
    "pr_at = pr_at.cpu().numpy().transpose()\n",
    "pr_at = pr_at[~rem_cols][:100]\n",
    "print('lsa of random image:', calc_lsa(pr_at, our_kde)[0])"
   ]
  },
  {
   "cell_type": "code",
   "execution_count": 10,
   "metadata": {},
   "outputs": [],
   "source": [
    "# fitness function\n",
    "def loss(sa, obj = -10):\n",
    "    return abs(sa - obj)"
   ]
  },
  {
   "cell_type": "code",
   "execution_count": 11,
   "metadata": {
    "scrolled": true
   },
   "outputs": [
    {
     "name": "stdout",
     "output_type": "stream",
     "text": [
      "-----epoch 0 start-----\n",
      "new_sa: 128.1\n",
      "# of updates: 179\n",
      "-----epoch 0 over-----\n",
      "-----epoch 1 start-----\n",
      "new_sa: 125.9\n",
      "# of updates: 128\n",
      "-----epoch 1 over-----\n",
      "-----epoch 2 start-----\n",
      "new_sa: 125.6\n",
      "# of updates: 90\n",
      "-----epoch 2 over-----\n"
     ]
    }
   ],
   "source": [
    "# optimization (a form of hill climbing)\n",
    "prev_sa = calc_img_lsa(pix_rand_img_tensor)\n",
    "target_sa = 111\n",
    "prev_loss = loss(prev_sa, target_sa)\n",
    "opt_img = pix_rand_img_tensor.clone()\n",
    "\n",
    "opt_epoch_num = 3\n",
    "last_diff_prop = 2.\n",
    "for e_idx in range(opt_epoch_num):\n",
    "    update_num = 0\n",
    "    print(f'-----epoch {e_idx} start-----')\n",
    "    for i in range(28):\n",
    "        for j in range(28):\n",
    "            img_copy = opt_img.clone()\n",
    "            img_copy[:, :, i, j] = img_copy[:, :, i, j] + last_diff_prop*torch.randn(1).cuda()\n",
    "            new_sa = calc_img_lsa(img_copy)\n",
    "            new_loss = loss(new_sa, target_sa)\n",
    "            if prev_loss > new_loss:\n",
    "                opt_img = img_copy\n",
    "                prev_loss = new_loss\n",
    "                prev_sa = new_sa\n",
    "                update_num += 1\n",
    "                print('\\r'*100, end='')\n",
    "                print(f'new_sa: {new_sa[0]:.1f}', end='')\n",
    "    print(f'\\n# of updates: {update_num}')\n",
    "    if (update_num == 0 or prev_loss < 0.01): break\n",
    "    print(f'-----epoch {e_idx} over-----')\n",
    "    last_diff_prop *= 0.5"
   ]
  },
  {
   "cell_type": "code",
   "execution_count": 12,
   "metadata": {},
   "outputs": [
    {
     "name": "stdout",
     "output_type": "stream",
     "text": [
      "Target SA 111, Actual SA 125.6\n"
     ]
    },
    {
     "data": {
      "text/plain": [
       "(-0.5, 27.5, 27.5, -0.5)"
      ]
     },
     "execution_count": 12,
     "metadata": {},
     "output_type": "execute_result"
    },
    {
     "data": {
      "image/png": "[encoded data removed]",
      "text/plain": [
       "<Figure size 432x288 with 1 Axes>"
      ]
     },
     "metadata": {
      "needs_background": "light"
     },
     "output_type": "display_data"
    }
   ],
   "source": [
    "print(f'Target SA {target_sa}, Actual SA {new_sa[0]:.1f}')\n",
    "plt.imshow(opt_img.view(28, 28).detach().cpu())\n",
    "plt.axis('off')"
   ]
  },
  {
   "cell_type": "markdown",
   "metadata": {},
   "source": [
    "### Optimizing with VAE latent space (SINVAD)"
   ]
  },
  {
   "cell_type": "code",
   "execution_count": 13,
   "metadata": {},
   "outputs": [
    {
     "name": "stdout",
     "output_type": "stream",
     "text": [
      "Original Random Image\n"
     ]
    },
    {
     "name": "stderr",
     "output_type": "stream",
     "text": [
      "/home/sungmin/Documents/dlTestGen/dlenv/lib/python3.6/site-packages/torch/nn/functional.py:1569: UserWarning: nn.functional.sigmoid is deprecated. Use torch.sigmoid instead.\n",
      "  warnings.warn(\"nn.functional.sigmoid is deprecated. Use torch.sigmoid instead.\")\n"
     ]
    },
    {
     "data": {
      "text/plain": [
       "<matplotlib.image.AxesImage at 0x7fa6c9d152b0>"
      ]
     },
     "execution_count": 13,
     "metadata": {},
     "output_type": "execute_result"
    },
    {
     "data": {
      "image/png": "[encoded data removed]",
      "text/plain": [
       "<Figure size 432x288 with 1 Axes>"
      ]
     },
     "metadata": {
      "needs_background": "light"
     },
     "output_type": "display_data"
    }
   ],
   "source": [
    "b_size = 1\n",
    "rand_norm_v = torch.randn(b_size, 400).cuda()\n",
    "vae_rand_imgs = vae.decode(rand_norm_v)\n",
    "print('Original Random Image')\n",
    "plt.imshow(vae_rand_imgs[0].view(1, 1, 28, 28)[0][0].detach().cpu())"
   ]
  },
  {
   "cell_type": "code",
   "execution_count": 14,
   "metadata": {},
   "outputs": [],
   "source": [
    "# helper functions\n",
    "def calc_z_lsa(z):\n",
    "    vae_img = vae.decode(z).view(-1, 1, 28, 28)\n",
    "    return calc_img_lsa(vae_img)\n",
    "\n",
    "def loss(sa, obj = -10):\n",
    "    return abs(sa - obj)\n",
    "\n",
    "def z_to_img(z):\n",
    "    return vae.decode(z).detach()"
   ]
  },
  {
   "cell_type": "code",
   "execution_count": 15,
   "metadata": {},
   "outputs": [
    {
     "name": "stdout",
     "output_type": "stream",
     "text": [
      "initial SA: [138.23754883]\n"
     ]
    }
   ],
   "source": [
    "print('initial SA:', calc_z_lsa(rand_norm_v))"
   ]
  },
  {
   "cell_type": "code",
   "execution_count": 16,
   "metadata": {
    "scrolled": false
   },
   "outputs": [
    {
     "name": "stdout",
     "output_type": "stream",
     "text": [
      "-----epoch 0 start-----\n",
      "new_sa: 123.9971\n",
      "# of updates: 123\n",
      "change though opt: 362.7850341796875\n",
      "-----epoch 1 start-----\n",
      "new_sa: 116.8613\n",
      "# of updates: 149\n",
      "change though opt: 305.752197265625\n",
      "-----epoch 2 start-----\n",
      "new_sa: 114.5472\n",
      "# of updates: 133\n",
      "change though opt: 185.51837158203125\n"
     ]
    }
   ],
   "source": [
    "# same optimization process as above\n",
    "prev_sa = calc_z_lsa(rand_norm_v)\n",
    "target_sa = 111\n",
    "prev_loss = loss(prev_sa, target_sa)\n",
    "opt_z = rand_norm_v.clone()\n",
    "z_dim = 400\n",
    "\n",
    "last_diff_prop = 5.\n",
    "opt_epoch_num = 3\n",
    "for e_idx in range(opt_epoch_num):\n",
    "    last_epoch_z = opt_z\n",
    "    update_num = 0\n",
    "    print(f'-----epoch {e_idx} start-----')\n",
    "    for i in range(z_dim):\n",
    "        z_copy = opt_z.clone()\n",
    "        z_copy[:, i] = z_copy[:, i] + last_diff_prop*torch.randn(1).cuda()\n",
    "        new_sa = calc_z_lsa(z_copy)\n",
    "        new_loss = loss(new_sa, obj=target_sa)\n",
    "        if prev_loss > new_loss:\n",
    "            opt_z = z_copy\n",
    "            prev_loss = new_loss\n",
    "            prev_sa = new_sa\n",
    "            update_num += 1\n",
    "            print('\\r'*100, end='')\n",
    "            print(f'new_sa: {new_sa[0]:.4f}', end='')\n",
    "        if prev_loss < 0.01: break\n",
    "    print(f'\\n# of updates: {update_num}')\n",
    "    print(f'change though opt: {torch.sum(torch.abs(last_epoch_z - opt_z))}')\n",
    "    last_diff_prop = max(torch.sum(torch.abs(last_epoch_z - opt_z))/update_num, update_num/z_dim)\n",
    "    if (update_num == 0 or prev_loss < 0.01): break"
   ]
  },
  {
   "cell_type": "code",
   "execution_count": 17,
   "metadata": {},
   "outputs": [
    {
     "name": "stdout",
     "output_type": "stream",
     "text": [
      "Target SA 111, Actual SA 114.5\n"
     ]
    },
    {
     "data": {
      "text/plain": [
       "(-0.5, 27.5, 27.5, -0.5)"
      ]
     },
     "execution_count": 17,
     "metadata": {},
     "output_type": "execute_result"
    },
    {
     "data": {
      "image/png": "[encoded data removed]",
      "text/plain": [
       "<Figure size 432x288 with 1 Axes>"
      ]
     },
     "metadata": {
      "needs_background": "light"
     },
     "output_type": "display_data"
    }
   ],
   "source": [
    "print(f'Target SA {target_sa}, Actual SA {new_sa[0]:.1f}')\n",
    "plt.imshow(z_to_img(opt_z).view(28, 28).detach().cpu())\n",
    "plt.axis('off')"
   ]
  },
  {
   "cell_type": "markdown",
   "metadata": {},
   "source": [
    "## Step 2. Interpolation\n",
    "\n",
    "Using two randomly sampled images, we qualitatively observe the interpolation qualities of the representations. This code corresponds to Figure 5 in the paper. "
   ]
  },
  {
   "cell_type": "code",
   "execution_count": 18,
   "metadata": {},
   "outputs": [],
   "source": [
    "# sample a random pair of images\n",
    "tc = (4, 9)\n",
    "for i, (x, x_class) in enumerate(train_data_loader):\n",
    "    x = x.cuda()\n",
    "    img1 = x[0:1]\n",
    "    img2 = x[1:2]\n",
    "    if x_class[0] == tc[0] and x_class[1] == tc[1]:\n",
    "        break"
   ]
  },
  {
   "cell_type": "code",
   "execution_count": 19,
   "metadata": {},
   "outputs": [
    {
     "data": {
      "text/plain": [
       "<matplotlib.image.AxesImage at 0x7fa6c9a099b0>"
      ]
     },
     "execution_count": 19,
     "metadata": {},
     "output_type": "execute_result"
    },
    {
     "data": {
      "image/png": "[encoded data removed]",
      "text/plain": [
       "<Figure size 432x288 with 1 Axes>"
      ]
     },
     "metadata": {
      "needs_background": "light"
     },
     "output_type": "display_data"
    }
   ],
   "source": [
    "# get intermediate vectors, show reconstruction (without noise)\n",
    "enc1, _ = vae.encode(img1.view(-1, img_size))\n",
    "enc2, _ = vae.encode(img2.view(-1, img_size))\n",
    "rec_img1 = vae.decode(enc1).view(1, 1, 28, 28)\n",
    "rec_img2 = vae.decode(enc2).view(1, 1, 28, 28)\n",
    "showoff_img = torch.cat([rec_img1, rec_img2], dim=3)\n",
    "plt.imshow(showoff_img[0, 0].detach().cpu())"
   ]
  },
  {
   "cell_type": "code",
   "execution_count": 20,
   "metadata": {},
   "outputs": [
    {
     "data": {
      "text/plain": [
       "(-0.5, 167.5, 55.5, -0.5)"
      ]
     },
     "execution_count": 20,
     "metadata": {},
     "output_type": "execute_result"
    },
    {
     "data": {
      "image/png": "[encoded data removed]",
      "text/plain": [
       "<Figure size 432x288 with 1 Axes>"
      ]
     },
     "metadata": {
      "needs_background": "light"
     },
     "output_type": "display_data"
    }
   ],
   "source": [
    "# interpolation results (change `interval` to control degree of interpolation)\n",
    "interval = 5\n",
    "raw_images = []\n",
    "vae_images = []\n",
    "for i in range(interval+1):\n",
    "    recomb_enc = (1-(i/interval))*enc1 + (i/interval)*enc2\n",
    "    recomb_img = vae.decode(recomb_enc).view(1, 1, 28, 28)\n",
    "    vae_images.append(recomb_img)\n",
    "    raw_recomb_img = (1-(i/interval))*rec_img1 + (i/interval)*rec_img2\n",
    "    raw_images.append(raw_recomb_img.view(1, 1, 28, 28))\n",
    "vae_showoff_img = torch.cat(vae_images, dim=3)\n",
    "raw_showoff_img = torch.cat(raw_images, dim=3)\n",
    "showoff_img = torch.cat([vae_showoff_img, raw_showoff_img], dim=2)\n",
    "plt.imshow(showoff_img[0, 0].detach().cpu())\n",
    "plt.axis('off')"
   ]
  },
  {
   "cell_type": "code",
   "execution_count": null,
   "metadata": {},
   "outputs": [],
   "source": []
  }
 ],
 "metadata": {
  "kernelspec": {
   "display_name": "Python 3",
   "language": "python",
   "name": "python3"
  },
  "language_info": {
   "codemirror_mode": {
    "name": "ipython",
    "version": 3
   },
   "file_extension": ".py",
   "mimetype": "text/x-python",
   "name": "python",
   "nbconvert_exporter": "python",
   "pygments_lexer": "ipython3",
   "version": "3.6.6"
  }
 },
 "nbformat": 4,
 "nbformat_minor": 2
}
