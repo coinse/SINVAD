{
 "cells": [
  {
   "cell_type": "markdown",
   "metadata": {},
   "source": [
    "# SINVAD Experiments - Research Question 2 (Human Perception)\n",
    "\n",
    "This notebook provides outlines on experiments performed for RQ2 (Section 5.3 of paper). It contains code that generates results for Figure 9-11 and Table 1-2 of the paper. All images used for this survey will be provided as soon as possible."
   ]
  },
  {
   "cell_type": "code",
   "execution_count": 1,
   "metadata": {},
   "outputs": [],
   "source": [
    "%matplotlib inline\n",
    "import matplotlib.pyplot as plt\n",
    "import seaborn as sns\n",
    "import numpy as np\n",
    "import pandas\n",
    "import json\n",
    "\n",
    "from collections import defaultdict, Counter"
   ]
  },
  {
   "cell_type": "code",
   "execution_count": 2,
   "metadata": {},
   "outputs": [],
   "source": [
    "dataset = 'mnist' # change to emnist for emnist results"
   ]
  },
  {
   "cell_type": "code",
   "execution_count": 3,
   "metadata": {},
   "outputs": [
    {
     "data": {
      "text/html": [
       "<div>\n",
       "<style scoped>\n",
       "    .dataframe tbody tr th:only-of-type {\n",
       "        vertical-align: middle;\n",
       "    }\n",
       "\n",
       "    .dataframe tbody tr th {\n",
       "        vertical-align: top;\n",
       "    }\n",
       "\n",
       "    .dataframe thead th {\n",
       "        text-align: right;\n",
       "    }\n",
       "</style>\n",
       "<table border=\"1\" class=\"dataframe\">\n",
       "  <thead>\n",
       "    <tr style=\"text-align: right;\">\n",
       "      <th></th>\n",
       "      <th>uid</th>\n",
       "      <th>response_no</th>\n",
       "      <th>unix_time</th>\n",
       "      <th>response</th>\n",
       "    </tr>\n",
       "  </thead>\n",
       "  <tbody>\n",
       "    <tr>\n",
       "      <th>0</th>\n",
       "      <td>user1</td>\n",
       "      <td>2</td>\n",
       "      <td>1610506337784</td>\n",
       "      <td>{\"phase\": \"TEST\", \"expr\": \"E098_FGSM\", \"c1_con...</td>\n",
       "    </tr>\n",
       "    <tr>\n",
       "      <th>1</th>\n",
       "      <td>user1</td>\n",
       "      <td>3</td>\n",
       "      <td>1610506342057</td>\n",
       "      <td>{\"phase\": \"TEST\", \"expr\": \"E068_CW\", \"c1_confi...</td>\n",
       "    </tr>\n",
       "    <tr>\n",
       "      <th>2</th>\n",
       "      <td>user1</td>\n",
       "      <td>4</td>\n",
       "      <td>1610506350330</td>\n",
       "      <td>{\"phase\": \"TEST\", \"expr\": \"E041_SINVAD\", \"c1_c...</td>\n",
       "    </tr>\n",
       "    <tr>\n",
       "      <th>3</th>\n",
       "      <td>user1</td>\n",
       "      <td>5</td>\n",
       "      <td>1610506354256</td>\n",
       "      <td>{\"phase\": \"TEST\", \"expr\": \"E099_SINVAD\", \"c1_c...</td>\n",
       "    </tr>\n",
       "    <tr>\n",
       "      <th>4</th>\n",
       "      <td>user1</td>\n",
       "      <td>6</td>\n",
       "      <td>1610506364341</td>\n",
       "      <td>{\"phase\": \"TEST\", \"expr\": \"E037_SINVAD\", \"c1_c...</td>\n",
       "    </tr>\n",
       "  </tbody>\n",
       "</table>\n",
       "</div>"
      ],
      "text/plain": [
       "     uid  response_no      unix_time  \\\n",
       "0  user1            2  1610506337784   \n",
       "1  user1            3  1610506342057   \n",
       "2  user1            4  1610506350330   \n",
       "3  user1            5  1610506354256   \n",
       "4  user1            6  1610506364341   \n",
       "\n",
       "                                            response  \n",
       "0  {\"phase\": \"TEST\", \"expr\": \"E098_FGSM\", \"c1_con...  \n",
       "1  {\"phase\": \"TEST\", \"expr\": \"E068_CW\", \"c1_confi...  \n",
       "2  {\"phase\": \"TEST\", \"expr\": \"E041_SINVAD\", \"c1_c...  \n",
       "3  {\"phase\": \"TEST\", \"expr\": \"E099_SINVAD\", \"c1_c...  \n",
       "4  {\"phase\": \"TEST\", \"expr\": \"E037_SINVAD\", \"c1_c...  "
      ]
     },
     "execution_count": 3,
     "metadata": {},
     "output_type": "execute_result"
    }
   ],
   "source": [
    "trial_data = pandas.read_csv(f'./human_study_data/clean_{dataset}_trialdata.csv', sep=',')\n",
    "trial_data.head()"
   ]
  },
  {
   "cell_type": "code",
   "execution_count": 4,
   "metadata": {},
   "outputs": [
    {
     "name": "stdout",
     "output_type": "stream",
     "text": [
      "302\n"
     ]
    }
   ],
   "source": [
    "data_by_user = trial_data.groupby('uid')['response'].apply(list)\n",
    "data_by_user = data_by_user[data_by_user.apply(len) >= 30]\n",
    "cutoff_point = 1\n",
    "data_by_user = data_by_user.iloc[cutoff_point:]\n",
    "print(len(data_by_user))"
   ]
  },
  {
   "cell_type": "code",
   "execution_count": 5,
   "metadata": {},
   "outputs": [
    {
     "name": "stdout",
     "output_type": "stream",
     "text": [
      "31\n"
     ]
    }
   ],
   "source": [
    "# user verification (find who we should reject)\n",
    "reject_ids = []\n",
    "for user_id, user_data in data_by_user.items():\n",
    "    real_close_count = 0\n",
    "    fast_answ = 0\n",
    "    for answer in user_data:\n",
    "        answ_dict = eval(answer)\n",
    "        if 'real' in answ_dict['expr']:\n",
    "            if abs(answ_dict['c1_confidence']-answ_dict['c2_confidence']) < 2:\n",
    "                real_close_count += 1\n",
    "        else:\n",
    "            if answ_dict['rt'] < 2000:\n",
    "                fast_answ += 1\n",
    "    if real_close_count > 1 or fast_answ > 20:\n",
    "        reject_ids.append(user_id)\n",
    "\n",
    "print(len(reject_ids))"
   ]
  },
  {
   "cell_type": "code",
   "execution_count": 6,
   "metadata": {},
   "outputs": [
    {
     "name": "stdout",
     "output_type": "stream",
     "text": [
      "271\n"
     ]
    }
   ],
   "source": [
    "ok_uids = [uid for uid in data_by_user.keys() if uid not in reject_ids]\n",
    "filtered_data = data_by_user.filter(ok_uids)\n",
    "print(len(filtered_data))"
   ]
  },
  {
   "cell_type": "code",
   "execution_count": 7,
   "metadata": {},
   "outputs": [],
   "source": [
    "real_result_agg = defaultdict(list)\n",
    "conf_result_agg = defaultdict(list)\n",
    "time_result_agg = defaultdict(list)\n",
    "\n",
    "for user_data in data_by_user:\n",
    "    for answer in user_data:\n",
    "        answ_dict = eval(answer)\n",
    "        q_type = answ_dict['expr'].split('_')[1]\n",
    "        c1_score = answ_dict['c1_confidence']+1\n",
    "        c2_score = answ_dict['c2_confidence']+1\n",
    "        real_result_agg[q_type].append(c1_score + c2_score)\n",
    "        conf_result_agg[q_type].append(abs(c1_score - c2_score))\n",
    "        time_result_agg[q_type].append(answ_dict['rt']/1000)"
   ]
  },
  {
   "cell_type": "code",
   "execution_count": 8,
   "metadata": {},
   "outputs": [
    {
     "name": "stdout",
     "output_type": "stream",
     "text": [
      "-----\n",
      "Method real:\n",
      "Average Realism (c1+c2): 6.2351\n",
      "Average Confusion (|c1-c2|): 3.200\n",
      "Average Time (s): 6.129\n",
      "-----\n",
      "Method FGSM:\n",
      "Average Realism (c1+c2): 6.1467\n",
      "Average Confusion (|c1-c2|): 2.308\n",
      "Average Time (s): 6.879\n",
      "-----\n",
      "Method CW:\n",
      "Average Realism (c1+c2): 6.2407\n",
      "Average Confusion (|c1-c2|): 2.638\n",
      "Average Time (s): 6.675\n",
      "-----\n",
      "Method SINVAD:\n",
      "Average Realism (c1+c2): 6.1219\n",
      "Average Confusion (|c1-c2|): 2.036\n",
      "Average Time (s): 7.188\n"
     ]
    }
   ],
   "source": [
    "# aggregate values\n",
    "\n",
    "for key in real_result_agg.keys():\n",
    "    print('-----')\n",
    "    print(f'Method {key}:')\n",
    "    print(f'Average Realism (c1+c2): {np.mean(real_result_agg[key]):.4f}')\n",
    "    print(f'Average Confusion (|c1-c2|): {np.mean(conf_result_agg[key]):.3f}')\n",
    "    time_no_outlier = list(filter(lambda x: x < 30, time_result_agg[key]))\n",
    "    print(f'Average Time (s): {np.mean(time_no_outlier):.3f}')"
   ]
  },
  {
   "cell_type": "code",
   "execution_count": 9,
   "metadata": {},
   "outputs": [],
   "source": [
    "import seaborn as sns"
   ]
  },
  {
   "cell_type": "code",
   "execution_count": 10,
   "metadata": {},
   "outputs": [],
   "source": [
    "base_class_data = dict()\n",
    "with open(f'./human_study_data/{dataset}_metadata.csv') as f:\n",
    "    for i, l in enumerate(f):\n",
    "        if i == 0: continue\n",
    "        base_class_data[i] = tuple(l.strip().split(',')[1:]) # index 0 is target, 1 is source"
   ]
  },
  {
   "cell_type": "code",
   "execution_count": 11,
   "metadata": {},
   "outputs": [],
   "source": [
    "expr_dict = defaultdict(lambda: defaultdict(list))\n",
    "for user_data in data_by_user:\n",
    "    for answer in user_data:\n",
    "        answ_dict = eval(answer)\n",
    "        q_num = int(answ_dict['expr'][1:4])\n",
    "        trg_class, src_class = base_class_data[q_num]\n",
    "        q_type = answ_dict['expr'].split('_')[1]\n",
    "        \n",
    "        if trg_class < src_class:\n",
    "            trg_score = answ_dict['c1_confidence']+1\n",
    "            src_score = answ_dict['c2_confidence']+1\n",
    "        else:\n",
    "            src_score = answ_dict['c1_confidence']+1\n",
    "            trg_score = answ_dict['c2_confidence']+1\n",
    "        \n",
    "        expr_dict[q_num][q_type].append(src_score - trg_score) # usually positive"
   ]
  },
  {
   "cell_type": "code",
   "execution_count": 12,
   "metadata": {},
   "outputs": [
    {
     "name": "stdout",
     "output_type": "stream",
     "text": [
      "SINVAD: 0.7553598780149658\n",
      "FGSM: 1.4617660963056935\n",
      "CW: 2.0153621065154237\n",
      "real: 2.8316503782165547\n"
     ]
    },
    {
     "data": {
      "text/plain": [
       "<matplotlib.legend.Legend at 0x7fdcd977b3c8>"
      ]
     },
     "execution_count": 12,
     "metadata": {},
     "output_type": "execute_result"
    },
    {
     "data": {
      "image/png": "[encoded data removed]",
      "text/plain": [
       "<Figure size 432x288 with 1 Axes>"
      ]
     },
     "metadata": {
      "needs_background": "light"
     },
     "output_type": "display_data"
    }
   ],
   "source": [
    "deviation_by_method = defaultdict(list)\n",
    "for expr_key in expr_dict.keys():\n",
    "    for method_key in expr_dict[expr_key]:\n",
    "        deviation_by_method[method_key].append(np.mean(expr_dict[expr_key][method_key]))\n",
    "\n",
    "method_names = 'SINVAD FGSM CW real'.split()\n",
    "for method_name in method_names:\n",
    "    plt.hist(deviation_by_method[method_name], bins=9, range=(-4.5, 4.5), alpha=0.5, label=method_name)\n",
    "    print(f'{method_name}: {np.mean(deviation_by_method[method_name])}')\n",
    "\n",
    "plt.title('(src)-(trg) score dist')\n",
    "plt.ylabel('count')\n",
    "plt.xlabel('source - target')\n",
    "plt.legend()"
   ]
  },
  {
   "cell_type": "code",
   "execution_count": 13,
   "metadata": {},
   "outputs": [],
   "source": [
    "def get_conf_df(method = 'srctgt'):\n",
    "    all_data = []\n",
    "    for expr_key in sorted(expr_dict.keys()):\n",
    "        expr_data = []\n",
    "        for method_key in reversed(method_names):\n",
    "            if method == 'srctgt':\n",
    "                all_data.append((np.mean(expr_dict[expr_key][method_key]), method_key))\n",
    "            elif method == 'diff':\n",
    "                all_data.append((5-np.mean(list(map(abs, expr_dict[expr_key][method_key]))), method_key))\n",
    "            elif method == 'std':\n",
    "                all_data.append((np.std(expr_dict[expr_key][method_key]), method_key))\n",
    "    data_df = pandas.DataFrame(all_data, columns=['value', 'method'])\n",
    "    return data_df"
   ]
  },
  {
   "cell_type": "code",
   "execution_count": 14,
   "metadata": {},
   "outputs": [
    {
     "data": {
      "text/plain": [
       "(array([0, 1, 2, 3]), <a list of 4 Text xticklabel objects>)"
      ]
     },
     "execution_count": 14,
     "metadata": {},
     "output_type": "execute_result"
    },
    {
     "data": {
      "image/png": "[encoded data removed]",
      "text/plain": [
       "<Figure size 432x288 with 1 Axes>"
      ]
     },
     "metadata": {
      "needs_background": "light"
     },
     "output_type": "display_data"
    }
   ],
   "source": [
    "# graph 1. box/violinplot of confusion per question\n",
    "data_df = get_conf_df('srctgt')\n",
    "sns.boxplot(x='method', y='value', data=data_df)#, cut=0)\n",
    "plt.title('Source - Target on MNIST', fontsize=20)\n",
    "plt.ylabel('S-T', fontsize=18)\n",
    "plt.xlabel('Method', fontsize=18)\n",
    "plt.yticks(fontsize=14)\n",
    "plt.xticks(fontsize=14)"
   ]
  },
  {
   "cell_type": "code",
   "execution_count": 15,
   "metadata": {
    "scrolled": false
   },
   "outputs": [
    {
     "data": {
      "text/plain": [
       "(array([0., 1., 2., 3., 4., 5., 6.]), <a list of 7 Text xticklabel objects>)"
      ]
     },
     "execution_count": 15,
     "metadata": {},
     "output_type": "execute_result"
    },
    {
     "data": {
      "image/png": "[encoded data removed]",
      "text/plain": [
       "<Figure size 432x288 with 4 Axes>"
      ]
     },
     "metadata": {
      "needs_background": "light"
     },
     "output_type": "display_data"
    }
   ],
   "source": [
    "import matplotlib\n",
    "matplotlib.rcParams['axes.facecolor'] = (0, 0, 0, 0)\n",
    "\n",
    "data_df = get_conf_df('diff')\n",
    "\n",
    "pal = sns.cubehelix_palette(4, rot=-.25, light=.7)\n",
    "g = sns.FacetGrid(data_df, row='method', hue='method', aspect=6, height=1)\n",
    "\n",
    "g.map(sns.kdeplot, 'value',\n",
    "      clip=(-3, 5), shade=True,\n",
    "      alpha=1, linewidth=1.5, bw=0.25)\n",
    "g.map(sns.kdeplot, 'value', clip=(-3, 5), color='w', lw=2, bw=0.25)\n",
    "g.map(plt.axhline, y=0, lw=2, clip_on=(-3, 5))\n",
    "\n",
    "def label(x, color, label):\n",
    "    ax = plt.gca()\n",
    "    ax.text(0, .1, label, fontweight=\"bold\", color='black', size=18,\n",
    "            ha=\"left\", va=\"center\", transform=ax.transAxes)\n",
    "g.map(label, 'value')\n",
    "\n",
    "g.fig.subplots_adjust(hspace=-.7)\n",
    "\n",
    "g.set_titles(\"\")\n",
    "g.set(yticks=[])\n",
    "g.despine(bottom=True, left=True)\n",
    "plt.suptitle('MNIST Confusion by Method', size=20)\n",
    "plt.xlabel('Confusion Score', size=18)\n",
    "plt.text(3.2, 1.1, '➤ More confusing', size=17,\n",
    "         bbox=dict(boxstyle=\"square\",\n",
    "                   fc=(0.9, 0.9, 0.9),\n",
    "                   ec=(1, 1, 1)\n",
    "         )\n",
    ")\n",
    "plt.xticks(fontsize=14)"
   ]
  },
  {
   "cell_type": "code",
   "execution_count": 16,
   "metadata": {},
   "outputs": [
    {
     "name": "stdout",
     "output_type": "stream",
     "text": [
      "Maximally Confusing:\n",
      "Counter({('SINVAD', True): 30, ('SINVAD', False): 23, ('FGSM', False): 17, ('FGSM', True): 17, ('CW', False): 6, ('real', False): 4, ('CW', True): 3})\n"
     ]
    }
   ],
   "source": [
    "from scipy.stats import ttest_ind\n",
    "\n",
    "# graph 2. counting where SINVAD is more confusing\n",
    "test_power = 0.05\n",
    "\n",
    "confusers = []\n",
    "for expr_key in sorted(expr_dict.keys()):\n",
    "    method2conf = [\n",
    "        (4-np.mean(list(map(abs, expr_dict[expr_key][method_key]))), method_key)\n",
    "        for method_key in reversed(method_names)\n",
    "    ]\n",
    "    perf_list = sorted(method2conf, reverse=True)\n",
    "    first_method = perf_list[0][1]\n",
    "    second_method = perf_list[1][1]\n",
    "    \n",
    "    _, p_value = ttest_ind(\n",
    "        expr_dict[expr_key][first_method],\n",
    "        expr_dict[expr_key][second_method],\n",
    "        equal_var = False\n",
    "    )\n",
    "    \n",
    "    confusers.append((first_method, p_value < test_power))\n",
    "\n",
    "confuser_count = Counter(confusers)\n",
    "print('Maximally Confusing:')\n",
    "print(confuser_count)"
   ]
  },
  {
   "cell_type": "code",
   "execution_count": 17,
   "metadata": {},
   "outputs": [],
   "source": [
    "from matplotlib.collections import PatchCollection\n",
    "from matplotlib.patches import Rectangle, Patch\n",
    "\n",
    "def draw_unit_rect(ax, x, y, color, alpha=1, margin=0.1, hatch='.'):\n",
    "    width = 1-margin\n",
    "    rect = Rectangle((x-width/2, y-width/2), width, width)\n",
    "    pc = PatchCollection([rect], facecolor=[alpha*c+(1-alpha)*1 for c in color], \n",
    "                         alpha=alpha, edgecolor='black', \n",
    "                         linewidth=1.2 if alpha == 1 else 0, hatch=hatch)\n",
    "    ax.add_collection(pc)"
   ]
  },
  {
   "cell_type": "code",
   "execution_count": 18,
   "metadata": {},
   "outputs": [
    {
     "data": {
      "text/plain": [
       "Text(0.5, 1.0, 'mnist')"
      ]
     },
     "execution_count": 18,
     "metadata": {},
     "output_type": "execute_result"
    },
    {
     "data": {
      "image/png": "[encoded data removed]",
      "text/plain": [
       "<Figure size 432x288 with 1 Axes>"
      ]
     },
     "metadata": {
      "needs_background": "light"
     },
     "output_type": "display_data"
    }
   ],
   "source": [
    "fig, ax = plt.subplots(1)\n",
    "now_palette = sns.color_palette()\n",
    "\n",
    "ax.set_aspect('equal', adjustable='box')\n",
    "\n",
    "full_counter = 100\n",
    "curr_x = 1\n",
    "curr_y = 10\n",
    "handles = []\n",
    "hatches = ['.', '/', '*', 'xx'][::-1]\n",
    "for m_idx, method in enumerate(reversed(method_names)):\n",
    "    now_color = now_palette[m_idx]\n",
    "    handles.append(Patch(facecolor=now_color, edgecolor='black',\n",
    "                         label=method, hatch=hatches[m_idx]*2))\n",
    "    for bool_val in [False, True]:\n",
    "        this_res_count = confuser_count[(method, bool_val)]\n",
    "        alpha = 1 if bool_val else 0.7\n",
    "        while this_res_count > 0:\n",
    "            draw_unit_rect(ax, curr_x, curr_y, now_color, alpha=alpha, hatch=hatches[m_idx])\n",
    "            this_res_count -= 1\n",
    "            full_counter -= 1\n",
    "            curr_x = curr_x % 10 + 1\n",
    "            if curr_x == 1:\n",
    "                curr_y -= 1\n",
    "\n",
    "plt.axis('off')\n",
    "plt.xlim(0, 11)\n",
    "plt.ylim(0, 11)\n",
    "legend = plt.legend(handles=handles, loc='center left', bbox_to_anchor=(0.97, 0.5))\n",
    "frame = legend.get_frame()\n",
    "frame.set_color('white')\n",
    "plt.title(dataset)"
   ]
  },
  {
   "cell_type": "code",
   "execution_count": null,
   "metadata": {},
   "outputs": [],
   "source": []
  }
 ],
 "metadata": {
  "kernelspec": {
   "display_name": "dlenv",
   "language": "python",
   "name": "dlenv"
  },
  "language_info": {
   "codemirror_mode": {
    "name": "ipython",
    "version": 3
   },
   "file_extension": ".py",
   "mimetype": "text/x-python",
   "name": "python",
   "nbconvert_exporter": "python",
   "pygments_lexer": "ipython3",
   "version": "3.6.6"
  }
 },
 "nbformat": 4,
 "nbformat_minor": 2
}
