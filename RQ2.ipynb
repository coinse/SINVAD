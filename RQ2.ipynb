{
 "cells": [
  {
   "cell_type": "markdown",
   "metadata": {},
   "source": [
    "# SINVAD Experiments - Research Question 2 (Indecisiveness)\n",
    "\n",
    "This notebook provides outlines on experiments performed for RQ2 (Section 5.3 of paper). It contains code that generates results for Table 1 in the paper. Here we only present the code for MNIST; the principle is similar for CIFAR-10. The paper contains a typo; in Table 1 the paper reports MNIST results, but they are actually FashionMNIST results, which is the reason of the deviation from the results in the paper. "
   ]
  },
  {
   "cell_type": "markdown",
   "metadata": {},
   "source": [
    "## Step 0. Preparation"
   ]
  },
  {
   "cell_type": "code",
   "execution_count": 1,
   "metadata": {},
   "outputs": [],
   "source": [
    "%matplotlib inline\n",
    "import torch\n",
    "import torch.nn as nn\n",
    "import torchvision\n",
    "from torchvision import transforms\n",
    "from torchvision.utils import save_image\n",
    "\n",
    "import numpy as np\n",
    "import matplotlib.pyplot as plt\n",
    "from tqdm import tqdm_notebook as tqdm_n\n",
    "plt.style.use('seaborn')\n",
    "\n",
    "from sa.model import MnistClassifier\n",
    "from vae.model import VAE"
   ]
  },
  {
   "cell_type": "code",
   "execution_count": 2,
   "metadata": {},
   "outputs": [
    {
     "data": {
      "text/plain": [
       "<torch.autograd.grad_mode.no_grad at 0x7f9bf9702278>"
      ]
     },
     "execution_count": 2,
     "metadata": {},
     "output_type": "execute_result"
    }
   ],
   "source": [
    "img_size = 28*28*1\n",
    "torch.no_grad() # since nothing is trained here"
   ]
  },
  {
   "cell_type": "code",
   "execution_count": 3,
   "metadata": {},
   "outputs": [
    {
     "name": "stdout",
     "output_type": "stream",
     "text": [
      "models loaded\n"
     ]
    }
   ],
   "source": [
    "vae = VAE(img_size = 28*28, h_dim = 1600, z_dim = 400)\n",
    "vae.load_state_dict(torch.load('./vae/models/MNIST_EnD.pth'))\n",
    "vae.cuda()\n",
    "\n",
    "classifier = MnistClassifier(img_size = img_size)\n",
    "classifier.load_state_dict(torch.load('./sa/models/MNIST_conv_classifier.pth'))\n",
    "classifier.cuda()\n",
    "print(\"models loaded\")"
   ]
  },
  {
   "cell_type": "code",
   "execution_count": 4,
   "metadata": {},
   "outputs": [
    {
     "name": "stdout",
     "output_type": "stream",
     "text": [
      "Data loader ready\n"
     ]
    }
   ],
   "source": [
    "test_dataset = torchvision.datasets.MNIST(root='./data', train=False, transform=transforms.ToTensor(), download=False)\n",
    "test_data_loader = torch.utils.data.DataLoader(dataset=test_dataset, batch_size=1, shuffle=True)\n",
    "print(\"Data loader ready\")"
   ]
  },
  {
   "cell_type": "markdown",
   "metadata": {},
   "source": [
    "## Step 1. Calculate prediction variance in different datasets"
   ]
  },
  {
   "cell_type": "code",
   "execution_count": 5,
   "metadata": {},
   "outputs": [],
   "source": [
    "def pred_diff(img, classifier, rep_num = 10):\n",
    "    preds = []\n",
    "    prob_f = nn.Softmax(dim=1)\n",
    "    for r_idx in range(rep_num):\n",
    "        pred = prob_f(classifier(img))\n",
    "        preds.append(pred)\n",
    "    preds = torch.cat(preds, dim=0)\n",
    "    stds = torch.std(preds, dim=0)\n",
    "    return stds"
   ]
  },
  {
   "cell_type": "code",
   "execution_count": 6,
   "metadata": {},
   "outputs": [
    {
     "name": "stderr",
     "output_type": "stream",
     "text": [
      "/home/sungmin/Documents/dlTestGen/opensource-icse2020/osenv/lib/python3.6/site-packages/ipykernel_launcher.py:2: TqdmDeprecationWarning: This function will be removed in tqdm==5.0.0\n",
      "Please use `tqdm.notebook.tqdm` instead of `tqdm.tqdm_notebook`\n",
      "  \n"
     ]
    },
    {
     "data": {
      "application/vnd.jupyter.widget-view+json": {
       "model_id": "707c4b5b2b05413ea2aafe811a769023",
       "version_major": 2,
       "version_minor": 0
      },
      "text/plain": [
       "HBox(children=(FloatProgress(value=1.0, bar_style='info', layout=Layout(width='20px'), max=1.0), HTML(value=''…"
      ]
     },
     "metadata": {},
     "output_type": "display_data"
    },
    {
     "name": "stdout",
     "output_type": "stream",
     "text": [
      "\n",
      "Dataset test image variation: 0.021665634684952455\n"
     ]
    }
   ],
   "source": [
    "norm_accum = 0.\n",
    "for i, (x, x_class) in tqdm_n(enumerate(test_data_loader)):\n",
    "    samp_img = x[0:1].cuda()\n",
    "    diff = pred_diff(samp_img, classifier)\n",
    "    norm_accum += diff.sum().item()\n",
    "print('Dataset test image variation:', norm_accum/10000)"
   ]
  },
  {
   "cell_type": "code",
   "execution_count": 7,
   "metadata": {},
   "outputs": [],
   "source": [
    "bound_imgs = np.load('./data/bound_imgs_MNIST.npy')"
   ]
  },
  {
   "cell_type": "code",
   "execution_count": 8,
   "metadata": {},
   "outputs": [],
   "source": [
    "batch_imgs = bound_imgs.reshape((1, 10000, 28, 28))\n",
    "batch_imgs = batch_imgs.transpose((1, 0, 2, 3))\n",
    "tensor_imgs = torch.Tensor(batch_imgs).cuda()"
   ]
  },
  {
   "cell_type": "code",
   "execution_count": 9,
   "metadata": {},
   "outputs": [
    {
     "name": "stderr",
     "output_type": "stream",
     "text": [
      "/home/sungmin/Documents/dlTestGen/opensource-icse2020/osenv/lib/python3.6/site-packages/ipykernel_launcher.py:2: TqdmDeprecationWarning: This function will be removed in tqdm==5.0.0\n",
      "Please use `tqdm.notebook.tqdm` instead of `tqdm.tqdm_notebook`\n",
      "  \n"
     ]
    },
    {
     "data": {
      "application/vnd.jupyter.widget-view+json": {
       "model_id": "6548a5b6ac5841778cd6a2c91b0e564a",
       "version_major": 2,
       "version_minor": 0
      },
      "text/plain": [
       "HBox(children=(FloatProgress(value=0.0, max=10000.0), HTML(value='')))"
      ]
     },
     "metadata": {},
     "output_type": "display_data"
    },
    {
     "name": "stdout",
     "output_type": "stream",
     "text": [
      "\n",
      "SINVAD-generated image variation: 0.6997887066062334\n"
     ]
    }
   ],
   "source": [
    "bound_accum = 0.\n",
    "for img_idx in tqdm_n(range(10000)):\n",
    "    tensor_img = tensor_imgs[img_idx:img_idx+1]\n",
    "    diff = pred_diff(tensor_img, classifier)\n",
    "    bound_accum += diff.sum().item()\n",
    "print('SINVAD-generated image variation:', bound_accum/10000)"
   ]
  },
  {
   "cell_type": "markdown",
   "metadata": {},
   "source": [
    "## Appenndix. Visualization of SINVAD-generated images"
   ]
  },
  {
   "cell_type": "code",
   "execution_count": 10,
   "metadata": {},
   "outputs": [
    {
     "data": {
      "text/plain": [
       "<matplotlib.image.AxesImage at 0x7f9b78a0ef98>"
      ]
     },
     "execution_count": 10,
     "metadata": {},
     "output_type": "execute_result"
    },
    {
     "data": {
      "image/png": "[encoded data removed]",
      "text/plain": [
       "<Figure size 576x396 with 1 Axes>"
      ]
     },
     "metadata": {},
     "output_type": "display_data"
    }
   ],
   "source": [
    "plt.imshow(tensor_img[0][0].cpu())"
   ]
  }
 ],
 "metadata": {
  "kernelspec": {
   "display_name": "Python 3",
   "language": "python",
   "name": "python3"
  },
  "language_info": {
   "codemirror_mode": {
    "name": "ipython",
    "version": 3
   },
   "file_extension": ".py",
   "mimetype": "text/x-python",
   "name": "python",
   "nbconvert_exporter": "python",
   "pygments_lexer": "ipython3",
   "version": "3.6.10"
  }
 },
 "nbformat": 4,
 "nbformat_minor": 2
}
